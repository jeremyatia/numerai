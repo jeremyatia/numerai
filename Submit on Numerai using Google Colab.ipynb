{
 "cells": [
  {
   "cell_type": "markdown",
   "metadata": {},
   "source": [
    "![](https://miro.medium.com/max/4000/1*g5PtFpII33P5EeHxFZN9YA.png)"
   ]
  },
  {
   "cell_type": "markdown",
   "metadata": {},
   "source": [
    "# Requirements\n",
    "1. Create an account on https://numer.ai/\n",
    "2. Create an API key to interact with Numerai services: https://numer.ai/account\n",
    "3. Update the current notebook on Google Colab (optional)"
   ]
  },
  {
   "cell_type": "markdown",
   "metadata": {},
   "source": [
    "# Data loading and splitting\n",
    "Dowload the dataset using numerapi and split the data according to the 'data_type' feature"
   ]
  },
  {
   "cell_type": "code",
   "execution_count": null,
   "metadata": {
    "colab": {
     "base_uri": "https://localhost:8080/",
     "height": 383
    },
    "colab_type": "code",
    "id": "IyvAhj6xVBGb",
    "outputId": "b360c275-8438-4892-b89c-2485a859c102"
   },
   "outputs": [],
   "source": [
    "!pip install numerapi\n",
    "import numerapi\n",
    "# get them here: https://numer.ai/account\n",
    "PUB = 'your_public_key'\n",
    "SEC = 'your_secret_key'\n",
    "# some API calls\n",
    "napi = numerapi.NumerAPI(verbosity=\"info\", public_id=PUB, secret_key=SEC)\n",
    "# download current dataset\n",
    "napi.download_current_dataset(unzip=True)"
   ]
  },
  {
   "cell_type": "code",
   "execution_count": null,
   "metadata": {
    "colab": {},
    "colab_type": "code",
    "id": "bEg6UqKpFL9a"
   },
   "outputs": [],
   "source": [
    "folder = 'numerai_dataset_' + str(napi.get_current_round())"
   ]
  },
  {
   "cell_type": "code",
   "execution_count": null,
   "metadata": {
    "colab": {},
    "colab_type": "code",
    "id": "DCiDLzv-Hd2Y"
   },
   "outputs": [],
   "source": [
    "import pandas as pd\n",
    "train = pd.read_csv(folder + r'/numerai_training_data.csv', index_col=0)\n",
    "test = pd.read_csv(folder + r'/numerai_tournament_data.csv', index_col=0)"
   ]
  },
  {
   "cell_type": "code",
   "execution_count": null,
   "metadata": {},
   "outputs": [],
   "source": [
    "X_train = train.iloc[:, :-1]\n",
    "y_train = train.iloc[:, -1]\n",
    "X_validation = test[test.data_type == 'validation'].iloc[:, :-1]\n",
    "y_validation = test[test.data_type == 'validation'].iloc[:, -1])\n",
    "X_test = test[test.data_type == 'test'].iloc[:, :-1]\n",
    "X_live = test[test.data_type == 'live'].iloc[:, :-1]"
   ]
  },
  {
   "cell_type": "markdown",
   "metadata": {},
   "source": [
    "## converts the target from continous to ordinal\n",
    "- 0.00: 0\n",
    "- 0.25: 1\n",
    "- 0.50: 2\n",
    "- 0.75: 3\n",
    "- 1.00: 4"
   ]
  },
  {
   "cell_type": "code",
   "execution_count": null,
   "metadata": {
    "colab": {},
    "colab_type": "code",
    "id": "8Ngj8VR_X0M7"
   },
   "outputs": [],
   "source": [
    "from sklearn.preprocessing import LabelEncoder\n",
    "le = LabelEncoder()\n",
    "le.fit(y_train)\n",
    "y_train = le.transform(y_train)\n",
    "y_validation = le.transform(y_validation)"
   ]
  },
  {
   "cell_type": "markdown",
   "metadata": {
    "colab_type": "text",
    "id": "tQqvWuEsFYZo"
   },
   "source": [
    "# Simple modeling\n",
    "/!\\ In order to have competitive models, feature engineering as to be done beforehand"
   ]
  },
  {
   "cell_type": "code",
   "execution_count": null,
   "metadata": {},
   "outputs": [],
   "source": [
    "datasets = [X_train, X_validation, X_test, X_live]\n",
    "for dataset in datasets:\n",
    "    dataset.drop(columns=['era', 'data_type'], inplace=True)"
   ]
  },
  {
   "cell_type": "code",
   "execution_count": null,
   "metadata": {
    "colab": {},
    "colab_type": "code",
    "id": "-V5-Kn3WVK-n"
   },
   "outputs": [],
   "source": [
    "from sklearn.linear_model import LogisticRegression\n",
    "from sklearn.pipeline import make_pipeline\n",
    "from sklearn.preprocessing import StandardScaler\n",
    "\n",
    "ppl = make_pipeline(StandardScaler(), LogisticRegression(class_weight='balanced', max_iter=100))\n",
    "\n",
    "ppl.fit(X_train, y_train)\n",
    "pred_train = ppl.predict(X_train)\n",
    "pred_validation = ppl.predict(X_validation)\n",
    "pred_test = ppl.predict(X_test)\n",
    "pred_live = ppl.predict(X_live)"
   ]
  },
  {
   "cell_type": "markdown",
   "metadata": {
    "colab_type": "text",
    "id": "foXHEmxAFmKx"
   },
   "source": [
    "# Evaluation\n",
    "compare the predictions between train and validation"
   ]
  },
  {
   "cell_type": "code",
   "execution_count": null,
   "metadata": {
    "colab": {
     "base_uri": "https://localhost:8080/",
     "height": 71
    },
    "colab_type": "code",
    "id": "_vavlC0uiM9V",
    "outputId": "0fb37a12-53aa-4a75-e79e-ffa6878c24b2"
   },
   "outputs": [],
   "source": [
    "display(spearmanr(pred_train, y_train))\n",
    "display(spearmanr(pred_validation, y_validation))"
   ]
  },
  {
   "cell_type": "markdown",
   "metadata": {},
   "source": [
    "# Deployment\n",
    "Concatenate all the predictions and upload them to the platform"
   ]
  },
  {
   "cell_type": "code",
   "execution_count": null,
   "metadata": {},
   "outputs": [],
   "source": [
    "# small hack because the platform does not allow predictions that are either 0 or 1.\n",
    "def fix_prob(x):\n",
    "    if x == 0:\n",
    "        x += 0.01\n",
    "    elif x == 1:\n",
    "        x -= 0.01\n",
    "    return x"
   ]
  },
  {
   "cell_type": "code",
   "execution_count": null,
   "metadata": {},
   "outputs": [],
   "source": [
    "name_preds = 'prediction_' + train.iloc[:, -1].name.split('_')[1]\n",
    "name_preds"
   ]
  },
  {
   "cell_type": "code",
   "execution_count": null,
   "metadata": {
    "colab": {},
    "colab_type": "code",
    "id": "-Nt-CCZ0U_Sx"
   },
   "outputs": [],
   "source": [
    "prediction = pd.concat([pd.Series(index=X_validation.index, data=y_validation),\n",
    "                        pd.Series(index=X_test.index, data=pred_test),\n",
    "                        pd.Series(index=X_live.index, data=pred_live)], axis=0)\n",
    "# return the right value using inverse_transform\n",
    "prediction = pd.Series(index=prediction.index, data=le.inverse_transform(prediction), name=name_preds).round(2)\n",
    "prediction = prediction.apply(fix_prob)\n",
    "prediction.to_csv('preds.csv', header=True)"
   ]
  },
  {
   "cell_type": "code",
   "execution_count": null,
   "metadata": {
    "colab": {
     "base_uri": "https://localhost:8080/",
     "height": 175
    },
    "colab_type": "code",
    "id": "ujWGsKJP4ufI",
    "outputId": "b62a0942-128e-4b32-ea96-c66aef561dda"
   },
   "outputs": [],
   "source": [
    "submission_id = napi.upload_predictions(\"preds.csv\")\n",
    "# check submission status\n",
    "napi.submission_status()"
   ]
  }
 ],
 "metadata": {
  "colab": {
   "collapsed_sections": [],
   "machine_shape": "hm",
   "name": "numer_dev.ipynb",
   "provenance": []
  },
  "kernelspec": {
   "display_name": "Python 3",
   "language": "python",
   "name": "python3"
  },
  "language_info": {
   "codemirror_mode": {
    "name": "ipython",
    "version": 3
   },
   "file_extension": ".py",
   "mimetype": "text/x-python",
   "name": "python",
   "nbconvert_exporter": "python",
   "pygments_lexer": "ipython3",
   "version": "3.7.0"
  }
 },
 "nbformat": 4,
 "nbformat_minor": 1
}
